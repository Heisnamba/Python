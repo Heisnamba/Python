{
 "cells": [
  {
   "cell_type": "code",
   "execution_count": 1,
   "metadata": {},
   "outputs": [
    {
     "data": {
      "text/plain": [
       "['__add__',\n",
       " '__class__',\n",
       " '__contains__',\n",
       " '__delattr__',\n",
       " '__dir__',\n",
       " '__doc__',\n",
       " '__eq__',\n",
       " '__format__',\n",
       " '__ge__',\n",
       " '__getattribute__',\n",
       " '__getitem__',\n",
       " '__getnewargs__',\n",
       " '__gt__',\n",
       " '__hash__',\n",
       " '__init__',\n",
       " '__init_subclass__',\n",
       " '__iter__',\n",
       " '__le__',\n",
       " '__len__',\n",
       " '__lt__',\n",
       " '__mod__',\n",
       " '__mul__',\n",
       " '__ne__',\n",
       " '__new__',\n",
       " '__reduce__',\n",
       " '__reduce_ex__',\n",
       " '__repr__',\n",
       " '__rmod__',\n",
       " '__rmul__',\n",
       " '__setattr__',\n",
       " '__sizeof__',\n",
       " '__str__',\n",
       " '__subclasshook__',\n",
       " 'capitalize',\n",
       " 'casefold',\n",
       " 'center',\n",
       " 'count',\n",
       " 'encode',\n",
       " 'endswith',\n",
       " 'expandtabs',\n",
       " 'find',\n",
       " 'format',\n",
       " 'format_map',\n",
       " 'index',\n",
       " 'isalnum',\n",
       " 'isalpha',\n",
       " 'isdecimal',\n",
       " 'isdigit',\n",
       " 'isidentifier',\n",
       " 'islower',\n",
       " 'isnumeric',\n",
       " 'isprintable',\n",
       " 'isspace',\n",
       " 'istitle',\n",
       " 'isupper',\n",
       " 'join',\n",
       " 'ljust',\n",
       " 'lower',\n",
       " 'lstrip',\n",
       " 'maketrans',\n",
       " 'partition',\n",
       " 'replace',\n",
       " 'rfind',\n",
       " 'rindex',\n",
       " 'rjust',\n",
       " 'rpartition',\n",
       " 'rsplit',\n",
       " 'rstrip',\n",
       " 'split',\n",
       " 'splitlines',\n",
       " 'startswith',\n",
       " 'strip',\n",
       " 'swapcase',\n",
       " 'title',\n",
       " 'translate',\n",
       " 'upper',\n",
       " 'zfill']"
      ]
     },
     "execution_count": 1,
     "metadata": {},
     "output_type": "execute_result"
    }
   ],
   "source": [
    "a='cloudxlab'\n",
    "dir(a)"
   ]
  },
  {
   "cell_type": "code",
   "execution_count": 2,
   "metadata": {},
   "outputs": [
    {
     "name": "stdout",
     "output_type": "stream",
     "text": [
      "Help on built-in function translate:\n",
      "\n",
      "translate(...) method of builtins.str instance\n",
      "    S.translate(table) -> str\n",
      "    \n",
      "    Return a copy of the string S in which each character has been mapped\n",
      "    through the given translation table. The table must implement\n",
      "    lookup/indexing via __getitem__, for instance a dictionary or list,\n",
      "    mapping Unicode ordinals to Unicode ordinals, strings, or None. If\n",
      "    this operation raises LookupError, the character is left untouched.\n",
      "    Characters mapped to None are deleted.\n",
      "\n"
     ]
    }
   ],
   "source": [
    "help(a.translate)"
   ]
  },
  {
   "cell_type": "code",
   "execution_count": 3,
   "metadata": {},
   "outputs": [
    {
     "name": "stdout",
     "output_type": "stream",
     "text": [
      "Help on method_descriptor:\n",
      "\n",
      "translate(...)\n",
      "    S.translate(table) -> str\n",
      "    \n",
      "    Return a copy of the string S in which each character has been mapped\n",
      "    through the given translation table. The table must implement\n",
      "    lookup/indexing via __getitem__, for instance a dictionary or list,\n",
      "    mapping Unicode ordinals to Unicode ordinals, strings, or None. If\n",
      "    this operation raises LookupError, the character is left untouched.\n",
      "    Characters mapped to None are deleted.\n",
      "\n"
     ]
    }
   ],
   "source": [
    "help(str.translate)"
   ]
  },
  {
   "cell_type": "code",
   "execution_count": 11,
   "metadata": {},
   "outputs": [
    {
     "ename": "TypeError",
     "evalue": "'str' object does not support item assignment",
     "output_type": "error",
     "traceback": [
      "\u001b[0;31m---------------------------------------------------------------------------\u001b[0m",
      "\u001b[0;31mTypeError\u001b[0m                                 Traceback (most recent call last)",
      "\u001b[0;32m<ipython-input-11-fbe13505c793>\u001b[0m in \u001b[0;36m<module>\u001b[0;34m\u001b[0m\n\u001b[1;32m      1\u001b[0m \u001b[0ma\u001b[0m\u001b[0;34m=\u001b[0m\u001b[0;34m'cloudxlab'\u001b[0m\u001b[0;34m\u001b[0m\u001b[0;34m\u001b[0m\u001b[0m\n\u001b[0;32m----> 2\u001b[0;31m \u001b[0ma\u001b[0m\u001b[0;34m[\u001b[0m\u001b[0;36m1\u001b[0m\u001b[0;34m]\u001b[0m\u001b[0;34m=\u001b[0m\u001b[0;34m'm'\u001b[0m\u001b[0;34m\u001b[0m\u001b[0;34m\u001b[0m\u001b[0m\n\u001b[0m",
      "\u001b[0;31mTypeError\u001b[0m: 'str' object does not support item assignment"
     ]
    }
   ],
   "source": [
    "a='cloudxlab'\n",
    "a[1]='m'"
   ]
  },
  {
   "cell_type": "code",
   "execution_count": null,
   "metadata": {},
   "outputs": [],
   "source": []
  },
  {
   "cell_type": "code",
   "execution_count": 16,
   "metadata": {},
   "outputs": [
    {
     "name": "stdout",
     "output_type": "stream",
     "text": [
      "5\n"
     ]
    }
   ],
   "source": [
    "a = \"Cloudxlab is a large ed-tech platform for ml and big data\"\n",
    "count = 0\n",
    "for letter in a:\n",
    "     if letter == 'l':\n",
    "        count = count + 1\n",
    "print (count)"
   ]
  },
  {
   "cell_type": "code",
   "execution_count": 17,
   "metadata": {},
   "outputs": [
    {
     "name": "stdout",
     "output_type": "stream",
     "text": [
      "True\n"
     ]
    }
   ],
   "source": [
    "result = 'cloud' in 'cloudxlab'\n",
    "print (result)"
   ]
  },
  {
   "cell_type": "code",
   "execution_count": 5,
   "metadata": {},
   "outputs": [
    {
     "name": "stdout",
     "output_type": "stream",
     "text": [
      "CLOUDXLAB\n"
     ]
    }
   ],
   "source": [
    "print(a.upper())"
   ]
  },
  {
   "cell_type": "code",
   "execution_count": 6,
   "metadata": {},
   "outputs": [
    {
     "name": "stdout",
     "output_type": "stream",
     "text": [
      "cloudxlab\n"
     ]
    }
   ],
   "source": [
    "print(a)"
   ]
  },
  {
   "cell_type": "code",
   "execution_count": null,
   "metadata": {},
   "outputs": [],
   "source": []
  },
  {
   "cell_type": "code",
   "execution_count": 19,
   "metadata": {},
   "outputs": [
    {
     "name": "stdout",
     "output_type": "stream",
     "text": [
      "False\n"
     ]
    }
   ],
   "source": [
    "string = \"machine\"\n",
    "print (string == \" machine\")"
   ]
  },
  {
   "cell_type": "code",
   "execution_count": null,
   "metadata": {},
   "outputs": [],
   "source": []
  },
  {
   "cell_type": "code",
   "execution_count": null,
   "metadata": {},
   "outputs": [],
   "source": [
    "my_float=15.85"
   ]
  },
  {
   "cell_type": "code",
   "execution_count": null,
   "metadata": {},
   "outputs": [],
   "source": [
    "my_string=\"Hello World\""
   ]
  },
  {
   "cell_type": "code",
   "execution_count": null,
   "metadata": {},
   "outputs": [],
   "source": [
    "my_bool=True"
   ]
  },
  {
   "cell_type": "code",
   "execution_count": null,
   "metadata": {},
   "outputs": [],
   "source": [
    "print(my_int)"
   ]
  },
  {
   "cell_type": "code",
   "execution_count": null,
   "metadata": {},
   "outputs": [],
   "source": [
    "bank_balance=200"
   ]
  },
  {
   "cell_type": "code",
   "execution_count": null,
   "metadata": {},
   "outputs": [],
   "source": [
    "print(bank_balance)"
   ]
  },
  {
   "cell_type": "code",
   "execution_count": null,
   "metadata": {},
   "outputs": [],
   "source": [
    "height=50\n",
    "width=40\n",
    "area_of_rectangle= height*width\n",
    "print(area_of_rectangle)"
   ]
  },
  {
   "cell_type": "code",
   "execution_count": null,
   "metadata": {},
   "outputs": [],
   "source": [
    "height=60\n",
    "width=40\n",
    "new_area_of_rectangle= height*width\n",
    "print(new_area_of_rectangle)"
   ]
  },
  {
   "cell_type": "code",
   "execution_count": null,
   "metadata": {
    "scrolled": true
   },
   "outputs": [],
   "source": [
    "height=1.7\n",
    "weight=72.25\n",
    "bmi= weight/(height*height)\n",
    "bmi= int(bmi)\n",
    "print(bmi)"
   ]
  },
  {
   "cell_type": "code",
   "execution_count": null,
   "metadata": {},
   "outputs": [],
   "source": [
    "total_interest= 9762.69\n",
    "type(total_interest)"
   ]
  },
  {
   "cell_type": "code",
   "execution_count": null,
   "metadata": {},
   "outputs": [],
   "source": [
    "print(\"BMI is\" +25)"
   ]
  },
  {
   "cell_type": "code",
   "execution_count": null,
   "metadata": {},
   "outputs": [],
   "source": [
    "print(\"BMI is\"+ str(25))"
   ]
  },
  {
   "cell_type": "code",
   "execution_count": null,
   "metadata": {},
   "outputs": [],
   "source": [
    "bmi=25\n",
    "bmi_str=str(bmi)\n",
    "message=\"BMI is \"+ bmi_str\n",
    "print(message)"
   ]
  },
  {
   "cell_type": "code",
   "execution_count": null,
   "metadata": {},
   "outputs": [],
   "source": [
    "bmi=25\n",
    "print(\"BMI is \"+ str(bmi))"
   ]
  },
  {
   "cell_type": "code",
   "execution_count": null,
   "metadata": {},
   "outputs": [],
   "source": [
    "first=\"Cloudx\"\n",
    "second=\"Lab\"\n",
    "final= first + second\n",
    "print(final)"
   ]
  },
  {
   "cell_type": "code",
   "execution_count": null,
   "metadata": {},
   "outputs": [],
   "source": [
    "animal=\"cat\"\n",
    "ten_animals=animal * 10\n",
    "print(ten_animals)"
   ]
  },
  {
   "cell_type": "code",
   "execution_count": null,
   "metadata": {},
   "outputs": [],
   "source": [
    "animal=\"cat\"\n",
    "print(animal * 10)"
   ]
  },
  {
   "cell_type": "code",
   "execution_count": null,
   "metadata": {},
   "outputs": [],
   "source": [
    "print(\"\\\"\\\\Sarojkumar\\\\\\\"\" * 10)"
   ]
  },
  {
   "cell_type": "code",
   "execution_count": null,
   "metadata": {},
   "outputs": [],
   "source": [
    "hours= input('Enter the hours: ')\n",
    "rate = input('Enter rate: ')\n",
    "pay = float(hours)*float(rate)\n",
    "print (pay)"
   ]
  },
  {
   "cell_type": "code",
   "execution_count": null,
   "metadata": {},
   "outputs": [],
   "source": [
    "\n",
    "x = 5\n",
    "if x > 2 :\n",
    "    print ('Bigger than 2')\n",
    "    print ('Still bigger')\n",
    "    print ('Done with 2')\n",
    "for i in range(5) :\n",
    "    print(i)\n",
    "    if i > 2 :\n",
    "    print ('Bigger than 2')\n",
    "    print ('Done with i', i)\n",
    "    print ('All Done')\n"
   ]
  },
  {
   "cell_type": "code",
   "execution_count": null,
   "metadata": {},
   "outputs": [],
   "source": [
    "list (range(10))"
   ]
  },
  {
   "cell_type": "code",
   "execution_count": null,
   "metadata": {},
   "outputs": [],
   "source": [
    "month=['Jan','Feb','March']\n",
    "prices=[234.09,234.98,233.90]\n",
    "min_prices=min(prices)\n",
    "print(min_prices)"
   ]
  },
  {
   "cell_type": "code",
   "execution_count": null,
   "metadata": {},
   "outputs": [],
   "source": [
    "print(prices.index(min_prices))"
   ]
  },
  {
   "cell_type": "code",
   "execution_count": null,
   "metadata": {},
   "outputs": [],
   "source": [
    "print(month[2])"
   ]
  },
  {
   "cell_type": "code",
   "execution_count": null,
   "metadata": {},
   "outputs": [],
   "source": [
    "print(month[prices.index(min(prices))])"
   ]
  },
  {
   "cell_type": "code",
   "execution_count": null,
   "metadata": {},
   "outputs": [],
   "source": [
    "print(prices.index(min_prices))"
   ]
  },
  {
   "cell_type": "code",
   "execution_count": null,
   "metadata": {},
   "outputs": [],
   "source": [
    "print(\"min_index\")\n",
    "print(prices.index(min_prices))"
   ]
  },
  {
   "cell_type": "code",
   "execution_count": null,
   "metadata": {
    "scrolled": true
   },
   "outputs": [],
   "source": [
    "print(\"Month with lowsest prices\")\n",
    "print(month[prices.index(min(prices))])"
   ]
  },
  {
   "cell_type": "code",
   "execution_count": null,
   "metadata": {},
   "outputs": [],
   "source": [
    "int(x=input('Enter any number:'))\n",
    "if x < 20 :\n",
    "    print ('Below 20')\n",
    "else :\n",
    "    print ('Something else')"
   ]
  },
  {
   "cell_type": "code",
   "execution_count": null,
   "metadata": {
    "code_folding": []
   },
   "outputs": [],
   "source": [
    "\n",
    "x=int(input(\"Enter a number\"))\n",
    "if x < 2 :\n",
    "    print ('Below 2')\n",
    "elif x < 20 :\n",
    "    print ('Below 20')\n",
    "elif x < 10 :\n",
    "    print ('Below 10')\n",
    "else :\n",
    "    print ('Something else')\n",
    "    "
   ]
  },
  {
   "cell_type": "code",
   "execution_count": null,
   "metadata": {},
   "outputs": [],
   "source": [
    "x=input(\"Enter a number\")\n",
    "y=x.isdigit()\n",
    "print(y)\n"
   ]
  },
  {
   "cell_type": "code",
   "execution_count": null,
   "metadata": {},
   "outputs": [],
   "source": []
  },
  {
   "cell_type": "code",
   "execution_count": null,
   "metadata": {},
   "outputs": [],
   "source": [
    "x=input('Enter a number')\n",
    "y=x.isdigit()\n",
    "if y==True:\n",
    "    print(x)\n",
    "else:\n",
    "    print('Enter a number')"
   ]
  },
  {
   "cell_type": "code",
   "execution_count": null,
   "metadata": {},
   "outputs": [],
   "source": [
    "try:\n",
    "    rate=float(input('Enter a number: '))\n",
    "except:\n",
    "    print('Please enter a valid number, this is your last warning')\n",
    "    rate=float(input('Enter a number:'))"
   ]
  },
  {
   "cell_type": "code",
   "execution_count": null,
   "metadata": {},
   "outputs": [],
   "source": [
    "x=input(\"Enter a number\")\n",
    "try:\n",
    "    ival=int(x)\n",
    "except:\n",
    "    ival=-1\n",
    "if ival!=-1:\n",
    "    print('Good Work')\n",
    "    print(ival)\n",
    "else:\n",
    "    print(ival,'This is not a number')\n",
    "    print('Enter a number')"
   ]
  },
  {
   "cell_type": "code",
   "execution_count": null,
   "metadata": {},
   "outputs": [],
   "source": [
    "hours=int(input('Enter hours: '))\n",
    "rate=int(input('Rate: '))\n",
    "extra_hours =0\n",
    "total=0\n",
    "if hours > 40:\n",
    "    extra_hours= hours-40\n",
    "    hours=40\n",
    "    total=(hours*rate)+(extra_hours*(1.5*rate))\n",
    "else:\n",
    "    total=(hours*rate)\n",
    "print('Payment =: ',total)"
   ]
  },
  {
   "cell_type": "code",
   "execution_count": null,
   "metadata": {},
   "outputs": [],
   "source": [
    "try:\n",
    "    hours=float(input('Enter hours: '))\n",
    "    rate=float(input('Rate: '))\n",
    "    if hours>40.0:\n",
    "        pay=float((hours-40)*(rate*1.5)+(40*rate))\n",
    "    else:\n",
    "        pay=float(hours*rate)\n",
    "    print(pay)\n",
    "except:\n",
    "    print(\"Please enter a valid value\")"
   ]
  },
  {
   "cell_type": "code",
   "execution_count": null,
   "metadata": {},
   "outputs": [],
   "source": [
    "def pay_calculator ( hours, rate):\n",
    "    if hours < 40:\n",
    "        total_pay= hours*rate\n",
    "    else:\n",
    "        total_pay=(40*rate)+((hours-40)*(1.5*rate))\n",
    "    return total_pay\n",
    "print(pay_calculator(45,10))"
   ]
  },
  {
   "cell_type": "code",
   "execution_count": null,
   "metadata": {},
   "outputs": [],
   "source": [
    "print(max('Hello world'))"
   ]
  },
  {
   "cell_type": "code",
   "execution_count": null,
   "metadata": {},
   "outputs": [],
   "source": [
    "height=20\n",
    "width=80\n",
    "area_of_rectangle=height*width\n",
    "print(area_of_rectangle)"
   ]
  },
  {
   "cell_type": "code",
   "execution_count": null,
   "metadata": {},
   "outputs": [],
   "source": [
    "type(area_of_rectangle)"
   ]
  },
  {
   "cell_type": "code",
   "execution_count": null,
   "metadata": {},
   "outputs": [],
   "source": [
    "area_of_circle =78.5\n",
    "area_of_circle=str(area_of_circle)\n",
    "area_of_circle_msg=\"Area_of_rectangle is -\"+ area_of_circle\n",
    "print(area_of_circle_msg)"
   ]
  },
  {
   "cell_type": "code",
   "execution_count": null,
   "metadata": {},
   "outputs": [],
   "source": [
    "len(\"cloudxlab\")"
   ]
  },
  {
   "cell_type": "code",
   "execution_count": null,
   "metadata": {},
   "outputs": [],
   "source": [
    "min(\"cloudxlab\")"
   ]
  },
  {
   "cell_type": "code",
   "execution_count": null,
   "metadata": {},
   "outputs": [],
   "source": [
    "square_area=(8.9**2)\n",
    "print(square_area)\n",
    "square_area_type=type(square_area)\n",
    "print(\"tpye of area \",square_area_type)\n",
    "square_area_int=int(square_area)\n",
    "type(square_area_int)\n",
    "square_area_str=str(square_area_int)\n",
    "type(square_area_str)"
   ]
  },
  {
   "cell_type": "code",
   "execution_count": null,
   "metadata": {},
   "outputs": [],
   "source": [
    "import math \n",
    "print(math)"
   ]
  },
  {
   "cell_type": "code",
   "execution_count": null,
   "metadata": {},
   "outputs": [],
   "source": [
    "math.log10(1000)"
   ]
  },
  {
   "cell_type": "code",
   "execution_count": null,
   "metadata": {},
   "outputs": [],
   "source": [
    "math.cos(0)"
   ]
  },
  {
   "cell_type": "code",
   "execution_count": null,
   "metadata": {},
   "outputs": [],
   "source": [
    "math.pi"
   ]
  },
  {
   "cell_type": "code",
   "execution_count": 1,
   "metadata": {},
   "outputs": [
    {
     "ename": "NameError",
     "evalue": "name 'math' is not defined",
     "output_type": "error",
     "traceback": [
      "\u001b[0;31m---------------------------------------------------------------------------\u001b[0m",
      "\u001b[0;31mNameError\u001b[0m                                 Traceback (most recent call last)",
      "\u001b[0;32m<ipython-input-1-c49acc181da4>\u001b[0m in \u001b[0;36m<module>\u001b[0;34m\u001b[0m\n\u001b[0;32m----> 1\u001b[0;31m \u001b[0mmath\u001b[0m\u001b[0;34m.\u001b[0m\u001b[0mpi\u001b[0m\u001b[0;34m\u001b[0m\u001b[0;34m\u001b[0m\u001b[0m\n\u001b[0m",
      "\u001b[0;31mNameError\u001b[0m: name 'math' is not defined"
     ]
    }
   ],
   "source": [
    "math.pi"
   ]
  },
  {
   "cell_type": "markdown",
   "metadata": {},
   "source": [
    "import math"
   ]
  },
  {
   "cell_type": "code",
   "execution_count": 2,
   "metadata": {},
   "outputs": [
    {
     "ename": "NameError",
     "evalue": "name 'math' is not defined",
     "output_type": "error",
     "traceback": [
      "\u001b[0;31m---------------------------------------------------------------------------\u001b[0m",
      "\u001b[0;31mNameError\u001b[0m                                 Traceback (most recent call last)",
      "\u001b[0;32m<ipython-input-2-65fb388543e8>\u001b[0m in \u001b[0;36m<module>\u001b[0;34m\u001b[0m\n\u001b[0;32m----> 1\u001b[0;31m \u001b[0mmath\u001b[0m\u001b[0;34m.\u001b[0m\u001b[0msqrt\u001b[0m\u001b[0;34m(\u001b[0m\u001b[0;36m4\u001b[0m\u001b[0;34m)\u001b[0m\u001b[0;34m\u001b[0m\u001b[0;34m\u001b[0m\u001b[0m\n\u001b[0m",
      "\u001b[0;31mNameError\u001b[0m: name 'math' is not defined"
     ]
    }
   ],
   "source": [
    "math.sqrt(4)"
   ]
  },
  {
   "cell_type": "code",
   "execution_count": 4,
   "metadata": {},
   "outputs": [
    {
     "name": "stdout",
     "output_type": "stream",
     "text": [
      "7.548509786706248\n"
     ]
    }
   ],
   "source": [
    "import math\n",
    "square_root=math.sqrt(56.98)\n",
    "print(square_root)"
   ]
  },
  {
   "cell_type": "code",
   "execution_count": 41,
   "metadata": {},
   "outputs": [
    {
     "name": "stdout",
     "output_type": "stream",
     "text": [
      "0.45378560551852565\n"
     ]
    }
   ],
   "source": [
    "pi=math.pi\n",
    "sin_rad=(26/360)*(2*pi)\n",
    "print(sin_rad)"
   ]
  },
  {
   "cell_type": "code",
   "execution_count": 42,
   "metadata": {},
   "outputs": [
    {
     "name": "stdout",
     "output_type": "stream",
     "text": [
      "0.4537856055185257\n"
     ]
    }
   ],
   "source": [
    "sin_rad=math.radians(26)\n",
    "print(sin_rad)"
   ]
  },
  {
   "cell_type": "code",
   "execution_count": 27,
   "metadata": {},
   "outputs": [
    {
     "name": "stdout",
     "output_type": "stream",
     "text": [
      "0.4383711467890774\n"
     ]
    }
   ],
   "source": [
    "sin_degree=math.sin(sin_rad)\n",
    "print(sin_degree)"
   ]
  },
  {
   "cell_type": "code",
   "execution_count": 12,
   "metadata": {},
   "outputs": [
    {
     "name": "stdout",
     "output_type": "stream",
     "text": [
      "6.907755278982137\n"
     ]
    }
   ],
   "source": [
    "log_e=math.log(1000)\n",
    "print(log_e)"
   ]
  },
  {
   "cell_type": "code",
   "execution_count": 38,
   "metadata": {},
   "outputs": [
    {
     "name": "stdout",
     "output_type": "stream",
     "text": [
      "0.4537856055185257\n"
     ]
    }
   ],
   "source": [
    "sin_rad=math.radians(26)\n",
    "print(sin_rad)"
   ]
  },
  {
   "cell_type": "code",
   "execution_count": 1,
   "metadata": {},
   "outputs": [
    {
     "data": {
      "text/plain": [
       "0.8740619329301214"
      ]
     },
     "execution_count": 1,
     "metadata": {},
     "output_type": "execute_result"
    }
   ],
   "source": [
    "import random \n",
    "random.random()"
   ]
  },
  {
   "cell_type": "code",
   "execution_count": 7,
   "metadata": {},
   "outputs": [
    {
     "name": "stdout",
     "output_type": "stream",
     "text": [
      "0.40071614126219346 \t 0\n",
      "0.6246878919090466 \t 1\n",
      "0.10277358594675501 \t 2\n",
      "0.6193435184124814 \t 3\n",
      "0.5307668358283478 \t 4\n",
      "0.6728155879994321 \t 5\n",
      "0.05891276977141102 \t 6\n",
      "0.42152349017496993 \t 7\n",
      "0.3946035662926718 \t 8\n",
      "0.5743302595851576 \t 9\n"
     ]
    }
   ],
   "source": [
    "for b in range(10):\n",
    "    number =random.random()\n",
    "    print(number,'\\t',b)"
   ]
  },
  {
   "cell_type": "code",
   "execution_count": 9,
   "metadata": {},
   "outputs": [
    {
     "name": "stdout",
     "output_type": "stream",
     "text": [
      "0\n"
     ]
    }
   ],
   "source": [
    "import random \n",
    "random_number= random.random()\n",
    "random_int=int(random_number)\n",
    "print(random_int)"
   ]
  },
  {
   "cell_type": "code",
   "execution_count": 16,
   "metadata": {},
   "outputs": [
    {
     "name": "stdout",
     "output_type": "stream",
     "text": [
      "My name is  Cloudxlab\n"
     ]
    }
   ],
   "source": [
    "def print_name():\n",
    "    name=\"Cloudxlab\"\n",
    "    print(\"My name is \", name)\n",
    "print_name()\n",
    "    "
   ]
  },
  {
   "cell_type": "code",
   "execution_count": 23,
   "metadata": {},
   "outputs": [
    {
     "name": "stdout",
     "output_type": "stream",
     "text": [
      "Cloudxlab\n"
     ]
    }
   ],
   "source": [
    "def get_name():\n",
    "    print(\"Cloudxlab\")\n",
    "get_name()"
   ]
  },
  {
   "cell_type": "code",
   "execution_count": 27,
   "metadata": {},
   "outputs": [
    {
     "name": "stdout",
     "output_type": "stream",
     "text": [
      "1.0\n"
     ]
    }
   ],
   "source": [
    "import math\n",
    "def print_name(value):\n",
    "    x=value\n",
    "    print(value)\n",
    "print_name(str(math.cos(0)))\n"
   ]
  },
  {
   "cell_type": "code",
   "execution_count": 34,
   "metadata": {},
   "outputs": [
    {
     "name": "stdout",
     "output_type": "stream",
     "text": [
      "10cloudxlab\n"
     ]
    }
   ],
   "source": [
    "def my_function(number):\n",
    "    xyz=number\n",
    "    xyz_str=str(xyz)\n",
    "    xyz_str=xyz_str+\"cloudxlab\"\n",
    "    print(xyz_str)\n",
    "my_function(10)    "
   ]
  },
  {
   "cell_type": "code",
   "execution_count": 14,
   "metadata": {},
   "outputs": [
    {
     "name": "stdout",
     "output_type": "stream",
     "text": [
      "216412.35147094267\n"
     ]
    }
   ],
   "source": [
    "import math\n",
    "def new_function(num):\n",
    "    multiplication=num*(math.pi)\n",
    "    return multiplication\n",
    "def void_function(num1,num2):\n",
    "    result=new_function(num1**num2)\n",
    "    print(result)\n",
    "void_function(4.6,7.3)\n"
   ]
  },
  {
   "cell_type": "code",
   "execution_count": 10,
   "metadata": {},
   "outputs": [
    {
     "name": "stdout",
     "output_type": "stream",
     "text": [
      "216412.35147094267\n"
     ]
    }
   ],
   "source": [
    "void_function(4.6,7.3)"
   ]
  },
  {
   "cell_type": "code",
   "execution_count": null,
   "metadata": {},
   "outputs": [],
   "source": [
    "def input_name():\n",
    "    print(\"What am I studying?\")\n",
    "    answer=input()\n",
    "    return(answer)\n",
    "subject=input_name()\n",
    "print(subject)"
   ]
  },
  {
   "cell_type": "code",
   "execution_count": 9,
   "metadata": {},
   "outputs": [
    {
     "name": "stdout",
     "output_type": "stream",
     "text": [
      "What am I studying\n",
      "Python\n",
      "Python\n"
     ]
    }
   ],
   "source": [
    "def input_name():\n",
    "    answer=input(\"What am I studying\\n\")\n",
    "    return(answer)\n",
    "subject=input_name()\n",
    "print(subject)\n",
    " "
   ]
  },
  {
   "cell_type": "code",
   "execution_count": 13,
   "metadata": {},
   "outputs": [
    {
     "name": "stdout",
     "output_type": "stream",
     "text": [
      "<class 'bool'>\n"
     ]
    }
   ],
   "source": [
    "print(type(True))"
   ]
  },
  {
   "cell_type": "code",
   "execution_count": 20,
   "metadata": {},
   "outputs": [
    {
     "ename": "UnboundLocalError",
     "evalue": "local variable 'exp1' referenced before assignment",
     "output_type": "error",
     "traceback": [
      "\u001b[0;31m---------------------------------------------------------------------------\u001b[0m",
      "\u001b[0;31mUnboundLocalError\u001b[0m                         Traceback (most recent call last)",
      "\u001b[0;32m<ipython-input-20-7bbfe89c3788>\u001b[0m in \u001b[0;36m<module>\u001b[0;34m\u001b[0m\n\u001b[1;32m      9\u001b[0m         \u001b[0mexp\u001b[0m\u001b[0;34m=\u001b[0m\u001b[0mstr\u001b[0m\u001b[0;34m(\u001b[0m\u001b[0mnum1\u001b[0m\u001b[0;34m)\u001b[0m\u001b[0;34m\u001b[0m\u001b[0;34m\u001b[0m\u001b[0m\n\u001b[1;32m     10\u001b[0m     \u001b[0;32mreturn\u001b[0m\u001b[0;34m(\u001b[0m\u001b[0mexp1\u001b[0m\u001b[0;34m+\u001b[0m\u001b[0mexp2\u001b[0m\u001b[0;34m+\u001b[0m\u001b[0mexp3\u001b[0m\u001b[0;34m+\u001b[0m\u001b[0mexp4\u001b[0m\u001b[0;34m)\u001b[0m\u001b[0;34m\u001b[0m\u001b[0;34m\u001b[0m\u001b[0m\n\u001b[0;32m---> 11\u001b[0;31m \u001b[0mbool_func\u001b[0m\u001b[0;34m(\u001b[0m\u001b[0;36m1\u001b[0m\u001b[0;34m,\u001b[0m\u001b[0;36m2\u001b[0m\u001b[0;34m,\u001b[0m\u001b[0;36m3\u001b[0m\u001b[0;34m,\u001b[0m\u001b[0;36m4\u001b[0m\u001b[0;34m)\u001b[0m\u001b[0;34m\u001b[0m\u001b[0;34m\u001b[0m\u001b[0m\n\u001b[0m",
      "\u001b[0;32m<ipython-input-20-7bbfe89c3788>\u001b[0m in \u001b[0;36mbool_func\u001b[0;34m(num1, num2, num3, num4)\u001b[0m\n\u001b[1;32m      8\u001b[0m     \u001b[0;32mif\u001b[0m \u001b[0mnum4\u001b[0m\u001b[0;34m!=\u001b[0m\u001b[0mnum1\u001b[0m\u001b[0;34m:\u001b[0m\u001b[0;34m\u001b[0m\u001b[0;34m\u001b[0m\u001b[0m\n\u001b[1;32m      9\u001b[0m         \u001b[0mexp\u001b[0m\u001b[0;34m=\u001b[0m\u001b[0mstr\u001b[0m\u001b[0;34m(\u001b[0m\u001b[0mnum1\u001b[0m\u001b[0;34m)\u001b[0m\u001b[0;34m\u001b[0m\u001b[0;34m\u001b[0m\u001b[0m\n\u001b[0;32m---> 10\u001b[0;31m     \u001b[0;32mreturn\u001b[0m\u001b[0;34m(\u001b[0m\u001b[0mexp1\u001b[0m\u001b[0;34m+\u001b[0m\u001b[0mexp2\u001b[0m\u001b[0;34m+\u001b[0m\u001b[0mexp3\u001b[0m\u001b[0;34m+\u001b[0m\u001b[0mexp4\u001b[0m\u001b[0;34m)\u001b[0m\u001b[0;34m\u001b[0m\u001b[0;34m\u001b[0m\u001b[0m\n\u001b[0m\u001b[1;32m     11\u001b[0m \u001b[0mbool_func\u001b[0m\u001b[0;34m(\u001b[0m\u001b[0;36m1\u001b[0m\u001b[0;34m,\u001b[0m\u001b[0;36m2\u001b[0m\u001b[0;34m,\u001b[0m\u001b[0;36m3\u001b[0m\u001b[0;34m,\u001b[0m\u001b[0;36m4\u001b[0m\u001b[0;34m)\u001b[0m\u001b[0;34m\u001b[0m\u001b[0;34m\u001b[0m\u001b[0m\n",
      "\u001b[0;31mUnboundLocalError\u001b[0m: local variable 'exp1' referenced before assignment"
     ]
    }
   ],
   "source": [
    "def bool_func(num1,num2,num3,num4):\n",
    "    if num1 > num2:\n",
    "        exp1=str(num2)\n",
    "    if num1 == num3:\n",
    "        exp2=str(num3)\n",
    "    if num2 < num1:\n",
    "        exp4=str(num1)\n",
    "    if num4!=num1:\n",
    "        exp=str(num1)\n",
    "    return(exp1+exp2+exp3+exp4)\n",
    "bool_func(1,2,3,4)"
   ]
  },
  {
   "cell_type": "code",
   "execution_count": null,
   "metadata": {},
   "outputs": [],
   "source": [
    "def bool_func(num1,num2,num3,num4):\n",
    "    if "
   ]
  },
  {
   "cell_type": "code",
   "execution_count": 27,
   "metadata": {},
   "outputs": [
    {
     "data": {
      "text/plain": [
       "'FalseFalseTrueTrue'"
      ]
     },
     "execution_count": 27,
     "metadata": {},
     "output_type": "execute_result"
    }
   ],
   "source": [
    "def bool_func(num1,num2,num3,num4):\n",
    "    exp1 = str(num1 > num2)\n",
    "    exp2 = str(num1 == num3)\n",
    "    exp3 = str(num2 <= num3)\n",
    "    exp4 = str(num4 != num1)\n",
    "    return (exp1 + exp2 + exp3 + exp4)\n",
    "bool_func(1,2,3,4)"
   ]
  },
  {
   "cell_type": "code",
   "execution_count": 2,
   "metadata": {},
   "outputs": [
    {
     "data": {
      "text/plain": [
       "bool"
      ]
     },
     "execution_count": 2,
     "metadata": {},
     "output_type": "execute_result"
    }
   ],
   "source": [
    "type(2>3)"
   ]
  },
  {
   "cell_type": "code",
   "execution_count": 76,
   "metadata": {},
   "outputs": [
    {
     "data": {
      "text/plain": [
       "4.3"
      ]
     },
     "execution_count": 76,
     "metadata": {},
     "output_type": "execute_result"
    }
   ],
   "source": [
    "def conditional_statements(num1,num2,num3,num4):\n",
    "    if (num1<num2 and num1>num3 and num1==num4):\n",
    "        num3<num1 and num2<num2 and num3<num4\n",
    "        if type(num2)==float and type(num1 and num3 and num4)==int:\n",
    "            return(num1+num2+num3+num4)\n",
    "    else:\n",
    "        return None\n",
    "conditional_statements(1,2.3,0,1)\n",
    "    "
   ]
  },
  {
   "cell_type": "code",
   "execution_count": 44,
   "metadata": {},
   "outputs": [
    {
     "ename": "NameError",
     "evalue": "name 'k' is not defined",
     "output_type": "error",
     "traceback": [
      "\u001b[0;31m---------------------------------------------------------------------------\u001b[0m",
      "\u001b[0;31mNameError\u001b[0m                                 Traceback (most recent call last)",
      "\u001b[0;32m<ipython-input-44-72c384efe2a4>\u001b[0m in \u001b[0;36m<module>\u001b[0;34m\u001b[0m\n\u001b[1;32m      6\u001b[0m         \u001b[0mprint\u001b[0m\u001b[0;34m(\u001b[0m\u001b[0;34m'Invalid'\u001b[0m\u001b[0;34m)\u001b[0m\u001b[0;34m\u001b[0m\u001b[0;34m\u001b[0m\u001b[0m\n\u001b[1;32m      7\u001b[0m \u001b[0;34m\u001b[0m\u001b[0m\n\u001b[0;32m----> 8\u001b[0;31m \u001b[0mexcept_func\u001b[0m\u001b[0;34m(\u001b[0m\u001b[0mk\u001b[0m\u001b[0;34m)\u001b[0m\u001b[0;34m\u001b[0m\u001b[0;34m\u001b[0m\u001b[0m\n\u001b[0m\u001b[1;32m      9\u001b[0m \u001b[0;34m\u001b[0m\u001b[0m\n",
      "\u001b[0;31mNameError\u001b[0m: name 'k' is not defined"
     ]
    }
   ],
   "source": [
    "def except_func(num):\n",
    "    try:\n",
    "        num=num*num\n",
    "        return num\n",
    "    except:\n",
    "        print('Invalid')\n",
    "\n",
    "except_func(k)\n",
    "        \n"
   ]
  },
  {
   "cell_type": "code",
   "execution_count": 49,
   "metadata": {},
   "outputs": [
    {
     "name": "stdout",
     "output_type": "stream",
     "text": [
      "Enter a number5\n"
     ]
    }
   ],
   "source": [
    "x=input('Enter a number')\n",
    "num=int(x)\n",
    "try:\n",
    "    print=int(num*num)\n",
    "except:\n",
    "    print('Invalid')"
   ]
  },
  {
   "cell_type": "code",
   "execution_count": 9,
   "metadata": {},
   "outputs": [
    {
     "name": "stdout",
     "output_type": "stream",
     "text": [
      "Enter your age\n",
      "5\n"
     ]
    },
    {
     "ename": "TypeError",
     "evalue": "'int' object is not callable",
     "output_type": "error",
     "traceback": [
      "\u001b[0;31m---------------------------------------------------------------------------\u001b[0m",
      "\u001b[0;31mTypeError\u001b[0m                                 Traceback (most recent call last)",
      "\u001b[0;32m<ipython-input-9-eb8b2f4fa214>\u001b[0m in \u001b[0;36m<module>\u001b[0;34m\u001b[0m\n\u001b[1;32m      3\u001b[0m \u001b[0;32mtry\u001b[0m\u001b[0;34m:\u001b[0m\u001b[0;34m\u001b[0m\u001b[0;34m\u001b[0m\u001b[0m\n\u001b[0;32m----> 4\u001b[0;31m     \u001b[0mprint\u001b[0m\u001b[0;34m(\u001b[0m\u001b[0mprompt\u001b[0m\u001b[0;34m)\u001b[0m\u001b[0;34m\u001b[0m\u001b[0;34m\u001b[0m\u001b[0m\n\u001b[0m\u001b[1;32m      5\u001b[0m \u001b[0;32mexcept\u001b[0m\u001b[0;34m:\u001b[0m\u001b[0;34m\u001b[0m\u001b[0;34m\u001b[0m\u001b[0m\n",
      "\u001b[0;31mTypeError\u001b[0m: 'int' object is not callable",
      "\nDuring handling of the above exception, another exception occurred:\n",
      "\u001b[0;31mTypeError\u001b[0m                                 Traceback (most recent call last)",
      "\u001b[0;32m<ipython-input-9-eb8b2f4fa214>\u001b[0m in \u001b[0;36m<module>\u001b[0;34m\u001b[0m\n\u001b[1;32m      4\u001b[0m     \u001b[0mprint\u001b[0m\u001b[0;34m(\u001b[0m\u001b[0mprompt\u001b[0m\u001b[0;34m)\u001b[0m\u001b[0;34m\u001b[0m\u001b[0;34m\u001b[0m\u001b[0m\n\u001b[1;32m      5\u001b[0m \u001b[0;32mexcept\u001b[0m\u001b[0;34m:\u001b[0m\u001b[0;34m\u001b[0m\u001b[0;34m\u001b[0m\u001b[0m\n\u001b[0;32m----> 6\u001b[0;31m     \u001b[0mprint\u001b[0m\u001b[0;34m(\u001b[0m\u001b[0;34m'You should enter a number:'\u001b[0m\u001b[0;34m)\u001b[0m\u001b[0;34m\u001b[0m\u001b[0;34m\u001b[0m\u001b[0m\n\u001b[0m",
      "\u001b[0;31mTypeError\u001b[0m: 'int' object is not callable"
     ]
    }
   ],
   "source": [
    "prompt= input('Enter your age\\n')\n",
    "int(prompt)\n",
    "try:\n",
    "    print(prompt)\n",
    "except:\n",
    "    print('You should enter a number:')"
   ]
  },
  {
   "cell_type": "code",
   "execution_count": 34,
   "metadata": {},
   "outputs": [
    {
     "name": "stdout",
     "output_type": "stream",
     "text": [
      "enter a number5\n"
     ]
    },
    {
     "data": {
      "text/plain": [
       "int"
      ]
     },
     "execution_count": 34,
     "metadata": {},
     "output_type": "execute_result"
    }
   ],
   "source": [
    "x=input('enter a number')\n",
    "type(x)\n",
    "y=int(x)\n",
    "type(y)"
   ]
  },
  {
   "cell_type": "code",
   "execution_count": 1,
   "metadata": {},
   "outputs": [
    {
     "name": "stdout",
     "output_type": "stream",
     "text": [
      "Enter your age\n",
      "5\n",
      "5\n"
     ]
    }
   ],
   "source": [
    "prompt = input(\"Enter your age\\n\")\n",
    "try:\n",
    "    print (int(prompt))\n",
    "except:\n",
    "    print('You should have entered a number')"
   ]
  },
  {
   "cell_type": "code",
   "execution_count": 3,
   "metadata": {},
   "outputs": [
    {
     "name": "stdout",
     "output_type": "stream",
     "text": [
      "0.7237331877135592\n",
      "1.723733187713559\n"
     ]
    }
   ],
   "source": [
    "import random\n",
    "number=random.random()\n",
    "print(number)\n",
    "print(number+1)"
   ]
  },
  {
   "cell_type": "code",
   "execution_count": 36,
   "metadata": {},
   "outputs": [
    {
     "data": {
      "text/plain": [
       "'invalid number'"
      ]
     },
     "execution_count": 36,
     "metadata": {},
     "output_type": "execute_result"
    }
   ],
   "source": [
    "def except_func(num):\n",
    "    try:\n",
    "        num=num*num\n",
    "        return num\n",
    "    except:\n",
    "        return 'invalid number'\n",
    "except_func('Sample')\n",
    "    "
   ]
  },
  {
   "cell_type": "code",
   "execution_count": 28,
   "metadata": {},
   "outputs": [
    {
     "name": "stdout",
     "output_type": "stream",
     "text": [
      "Enter a number\n",
      "5\n",
      "Invalid number\n"
     ]
    }
   ],
   "source": [
    "x=input(\"Enter a number\\n\")\n",
    "try:\n",
    "    print(x*x)\n",
    "except:\n",
    "    print('Invalid number')"
   ]
  },
  {
   "cell_type": "code",
   "execution_count": null,
   "metadata": {},
   "outputs": [
    {
     "name": "stdout",
     "output_type": "stream",
     "text": [
      "> saroj\n",
      "... \n",
      "saroj\n"
     ]
    }
   ],
   "source": [
    "while True:\n",
    "    line=input('> ')\n",
    "    if line=='done':\n",
    "        break\n",
    "    while True:\n",
    "        name=input('... ')\n",
    "        if name==(\"\"):\n",
    "            break\n",
    "    print(line)\n",
    "print ('Done')"
   ]
  },
  {
   "cell_type": "code",
   "execution_count": null,
   "metadata": {},
   "outputs": [],
   "source": [
    "for n in [5,4,3,2,1]:\n",
    "    for i in range(n):\n",
    "        print('*')\n",
    "    n=n-1\n",
    "    "
   ]
  },
  {
   "cell_type": "code",
   "execution_count": 2,
   "metadata": {
    "scrolled": true
   },
   "outputs": [
    {
     "name": "stdout",
     "output_type": "stream",
     "text": [
      "Before\n",
      "45 45\n",
      "45 3\n",
      "56 56\n",
      "56 8\n",
      "56 0.87\n",
      "After 56\n"
     ]
    }
   ],
   "source": [
    "largest=-1\n",
    "print(\"Before\")\n",
    "for the_num in [45,3,56,8,0.87]:\n",
    "    if the_num>largest:\n",
    "        largest=the_num\n",
    "    print(largest, the_num)\n",
    "print('After', largest)"
   ]
  },
  {
   "cell_type": "code",
   "execution_count": 2,
   "metadata": {},
   "outputs": [
    {
     "name": "stdout",
     "output_type": "stream",
     "text": [
      "12 12\n",
      "32 44\n",
      "43 87\n",
      "1 88\n",
      "9 97\n",
      "65 162\n",
      "total:  65\n"
     ]
    }
   ],
   "source": [
    "initial=0\n",
    "for sum in [12,32,43,1,9,65]:\n",
    "    initial=initial+sum\n",
    "    print(sum, initial)\n",
    "print('total: ', sum)\n",
    "    "
   ]
  },
  {
   "cell_type": "code",
   "execution_count": 6,
   "metadata": {},
   "outputs": [
    {
     "name": "stdout",
     "output_type": "stream",
     "text": [
      "Enter a number:\n",
      "0\n"
     ]
    }
   ],
   "source": [
    "def print_even(n):\n",
    "    even=0\n",
    "    m=n//2\n",
    "    if n>0:\n",
    "        for a in range(0,m+1):\n",
    "            print(even)\n",
    "            even=even+2\n",
    "x=int(input('Enter a number:\\n'))\n",
    "print_even(x)\n",
    "\n",
    "\n",
    "            "
   ]
  },
  {
   "cell_type": "code",
   "execution_count": 5,
   "metadata": {},
   "outputs": [
    {
     "name": "stdout",
     "output_type": "stream",
     "text": [
      "<class 'float'> Year 2 i 2\n",
      "Principle 100.0\n",
      "acuumulated_value 105.0\n"
     ]
    },
    {
     "data": {
      "text/plain": [
       "5.0"
      ]
     },
     "execution_count": 5,
     "metadata": {},
     "output_type": "execute_result"
    }
   ],
   "source": [
    "def compound_interest(principle, rate, year):\\\n",
    "    #ori_principle=principle\n",
    "    for i in range(1,year+1):\n",
    "        interest= (principle*rate*1)/100\n",
    "        new_principle=principle+interest\n",
    "    comp_interest= new_principle-principle\n",
    "    print(type(interest),'Year',year,'i', i)\n",
    "    print('Principle',principle)\n",
    "    print('acuumulated_value',new_principle)\n",
    "    return comp_interest\n",
    "#print('Calculation of compound interst:\\n')\n",
    "#x=float(input('Enter the principle:\\n'))\n",
    "#y=float(input('Enter the rate:\\n'))\n",
    "#z=int(input('Enter year:\\n'))\n",
    "#print('The compound interest is:',compound_interest(x, y, z)\n",
    "compound_interest(float (100),float (5), int (2))\n"
   ]
  },
  {
   "cell_type": "code",
   "execution_count": 29,
   "metadata": {},
   "outputs": [
    {
     "name": "stdout",
     "output_type": "stream",
     "text": [
      "Datatype of num1 is  <class 'float'>\n",
      "Datatype of num2 is  <class 'float'>\n",
      "5.0\n"
     ]
    }
   ],
   "source": [
    "def add(num1, num2):\n",
    "    print(\"Datatype of num1 is \", type(num1))\n",
    "    print(\"Datatype of num2 is \", type(num2))\n",
    "    return num1 + num2\n",
    "print(add(float(2), float(3)))"
   ]
  },
  {
   "cell_type": "code",
   "execution_count": 25,
   "metadata": {},
   "outputs": [
    {
     "name": "stdout",
     "output_type": "stream",
     "text": [
      "year 1 interest 5.0 principle 105.0\n",
      "year 2 interest 5.25 principle 110.25\n",
      "110.25 100.0\n",
      "compound interest:\t 10.25\n"
     ]
    }
   ],
   "source": [
    "def compound_interest(principle, rate, year):\n",
    "    ori_principle=principle\n",
    "    new_principle=principle\n",
    "    for i in range (1,year+1):\n",
    "        interest=(new_principle*rate*1)/100\n",
    "        new_principle=new_principle+interest\n",
    "        print('year',i, 'interest',interest,'principle',new_principle)\n",
    "    comp_interest=new_principle-ori_principle\n",
    "    print(new_principle, ori_principle)\n",
    "    return comp_interest\n",
    "print('compound interest:\\t',compound_interest(float(100), float(5), int(2)))"
   ]
  },
  {
   "cell_type": "code",
   "execution_count": 38,
   "metadata": {},
   "outputs": [
    {
     "data": {
      "text/plain": [
       "0"
      ]
     },
     "execution_count": 38,
     "metadata": {},
     "output_type": "execute_result"
    }
   ],
   "source": [
    "def sum_func(num):\n",
    "    if type(num)==int and num>=0:\n",
    "        sum=0\n",
    "        for i in range (num+1):\n",
    "            sum=sum+i\n",
    "        return sum\n",
    "    else:\n",
    "        return -1\n",
    "sum_func(0)\n",
    "            \n",
    "            "
   ]
  },
  {
   "cell_type": "code",
   "execution_count": null,
   "metadata": {},
   "outputs": [],
   "source": [
    "def sum_func(num):\n",
    "    if type(num)==int and num >=0:\n",
    "        sum=0\n",
    "        i=0\n",
    "        while i<num:\n",
    "            sum=sum+1\n",
    "            i+1\n",
    "        return sum\n",
    "    else:\n",
    "        return -1\n",
    "print(sum_func('jh'))\n",
    "            "
   ]
  },
  {
   "cell_type": "code",
   "execution_count": 2,
   "metadata": {},
   "outputs": [
    {
     "name": "stdout",
     "output_type": "stream",
     "text": [
      "Enter 1 to enter a number,  Enter 2 to stop the process\n",
      "1\n",
      "Enter the number\n",
      "4\n",
      "Enter 1 to enter a number,  Enter 2 to stop the process\n",
      "1\n",
      "Enter the number\n",
      "5\n",
      "Enter 1 to enter a number,  Enter 2 to stop the process\n",
      "2\n"
     ]
    }
   ],
   "source": [
    "total = 0\n",
    "while True:\n",
    "    n = input(\"Enter 1 to enter a number,  Enter 2 to stop the process\\n\")\n",
    "    if n is \"1\":\n",
    "        number = input(\"Enter the number\\n\")\n",
    "        try:\n",
    "            total = total + int(number)\n",
    "        except:\n",
    "            print(\"Please enter a valid number\\n\")\n",
    "            continue\n",
    "    elif n is \"2\": \n",
    "        break\n",
    "    else:\n",
    "        print(\"Please enter a valid choice\\n\")\n",
    "        continue"
   ]
  },
  {
   "cell_type": "code",
   "execution_count": 11,
   "metadata": {},
   "outputs": [
    {
     "data": {
      "text/plain": [
       "-10"
      ]
     },
     "execution_count": 11,
     "metadata": {},
     "output_type": "execute_result"
    }
   ],
   "source": [
    "def special_func(num):\n",
    "    total=0\n",
    "    if type(num)==int and num >=0:\n",
    "        for i in range (1,num+1):\n",
    "            if num%i==0 and i%2!=0:\n",
    "                total+=i\n",
    "        return total\n",
    "    else:\n",
    "        return -10\n",
    "special_func('abcd')\n",
    "                "
   ]
  },
  {
   "cell_type": "code",
   "execution_count": 19,
   "metadata": {},
   "outputs": [
    {
     "data": {
      "text/plain": [
       "4"
      ]
     },
     "execution_count": 19,
     "metadata": {},
     "output_type": "execute_result"
    }
   ],
   "source": [
    "def special_func(num):\n",
    "    total=0\n",
    "    if type(num)is int and num >=0:\n",
    "        i=1\n",
    "        while i< num:\n",
    "            if num%i==0 and i%2!=0:\n",
    "                total+=i\n",
    "            i+=1\n",
    "        return total\n",
    "    else:\n",
    "        return -10\n",
    "special_func(12)"
   ]
  },
  {
   "cell_type": "code",
   "execution_count": 70,
   "metadata": {},
   "outputs": [
    {
     "name": "stdout",
     "output_type": "stream",
     "text": [
      "1 1\n",
      "3 2\n",
      "6 3\n",
      "10 4\n"
     ]
    },
    {
     "data": {
      "text/plain": [
       "'l'"
      ]
     },
     "execution_count": 70,
     "metadata": {},
     "output_type": "execute_result"
    }
   ],
   "source": [
    "def str_func(string):\n",
    "    length=len(string)\n",
    "    last=-1\n",
    "    for i in range(length):\n",
    "        last+=1\n",
    "        #print(last,i)\n",
    "    return (string[last])\n",
    "def sum_str_func(string):\n",
    "    string=str(string)\n",
    "    sum=0\n",
    "    length=len(string)\n",
    "    for i in range (length): \n",
    "        sum=(sum+int(string[i]))\n",
    "        print(sum, string[i])\n",
    "    return sum\n",
    "sum_str_func(1234)\n",
    "str_func('Imphal')\n",
    "    "
   ]
  },
  {
   "cell_type": "code",
   "execution_count": 14,
   "metadata": {},
   "outputs": [
    {
     "name": "stdout",
     "output_type": "stream",
     "text": [
      "Imphal\n"
     ]
    }
   ],
   "source": [
    "def str_fucn(n):\n",
    "    x=n[len(n)-1]    \n",
    "    return x\n",
    "str_func('Imphal')"
   ]
  },
  {
   "cell_type": "code",
   "execution_count": 26,
   "metadata": {},
   "outputs": [
    {
     "data": {
      "text/plain": [
       "'l'"
      ]
     },
     "execution_count": 26,
     "metadata": {},
     "output_type": "execute_result"
    }
   ],
   "source": [
    "def str_func(str):\n",
    "    length = len(str)\n",
    "    last = 0\n",
    "    while last != (length -1):\n",
    "        last = last + 1\n",
    "    return (str[last])\n",
    "str_func('Imphal')"
   ]
  },
  {
   "cell_type": "code",
   "execution_count": 67,
   "metadata": {},
   "outputs": [
    {
     "data": {
      "text/plain": [
       "10"
      ]
     },
     "execution_count": 67,
     "metadata": {},
     "output_type": "execute_result"
    }
   ],
   "source": [
    "def sum_str_func(m):\n",
    "    n = str(m)\n",
    "    l = len(n)\n",
    "    sum = 0\n",
    "    p = 0\n",
    "    while p != (l):\n",
    "        sum = int(n[p]) + sum\n",
    "        p = p +1\n",
    "    return(sum) \n",
    "sum_str_func(1234)"
   ]
  },
  {
   "cell_type": "code",
   "execution_count": 12,
   "metadata": {},
   "outputs": [
    {
     "data": {
      "text/plain": [
       "'False'"
      ]
     },
     "execution_count": 12,
     "metadata": {},
     "output_type": "execute_result"
    }
   ],
   "source": [
    "def email_func(email):\n",
    "    email=str(email)\n",
    "    position=email.find('@')\n",
    "    return ('False')\n",
    "email_func('sadkouemfail')"
   ]
  },
  {
   "cell_type": "code",
   "execution_count": 15,
   "metadata": {},
   "outputs": [
    {
     "name": "stdout",
     "output_type": "stream",
     "text": [
      "16\n"
     ]
    }
   ],
   "source": [
    "s='saroj kimar sinh'\n",
    "length=len(s)\n",
    "print(length)"
   ]
  },
  {
   "cell_type": "code",
   "execution_count": null,
   "metadata": {},
   "outputs": [],
   "source": [
    "def email_func(email):\n",
    "    email=str(email)\n",
    "    position=email.find('@')\n",
    "    first_part=0\n",
    "    second_part=0\n",
    "    if position !=-1:\n",
    "        while postion!=' ':\n",
    "            first_part=position\n",
    "            first_part-=1\n",
    "        while positioon!=' ':\n",
    "            second_part=position\n",
    "            second_part+=1\n",
    "        \n",
    "        \n",
    "        \n",
    "        \n",
    "  \n",
    "    "
   ]
  },
  {
   "cell_type": "code",
   "execution_count": 46,
   "metadata": {},
   "outputs": [
    {
     "name": "stdout",
     "output_type": "stream",
     "text": [
      "['welcome to the jungle hsmdnd', 'gmail ksjo kjh']\n",
      "['gmail', 'ksjo', 'kjh']\n",
      "3\n"
     ]
    }
   ],
   "source": [
    "txt = \"welcome to the jungle hsmdnd@gmail ksjo kjh\"\n",
    "x = txt.split('@')\n",
    "print(x)\n",
    "b=x[1].split(' ')\n",
    "print(x[1].split(' '))\n",
    "print(len(b))"
   ]
  },
  {
   "cell_type": "code",
   "execution_count": 58,
   "metadata": {},
   "outputs": [
    {
     "name": "stdout",
     "output_type": "stream",
     "text": [
      "cloudxlab.com\n",
      "first\n"
     ]
    },
    {
     "data": {
      "text/plain": [
       "'abhinav@cloudxlab.com'"
      ]
     },
     "execution_count": 58,
     "metadata": {},
     "output_type": "execute_result"
    }
   ],
   "source": [
    "def email_func(string):\n",
    "    s = string.find('@')\n",
    "    if s==-1:\n",
    "        return False\n",
    "    else:\n",
    "        email = string.split('@')\n",
    "        b1 = email[0].split(' ')\n",
    "        b2 = email[1].split(' ')\n",
    "        i=len(b1)\n",
    "        print(b2[0])\n",
    "        print(b1[i-2])\n",
    "        e = b1[i-1] + \"@\" + b2[0]\n",
    "        return e\n",
    "email_func(\"this is first abhinav@cloudxlab.com and this is second sandeep@cloudxlab.com\")"
   ]
  },
  {
   "cell_type": "code",
   "execution_count": 33,
   "metadata": {},
   "outputs": [
    {
     "data": {
      "text/plain": [
       "'@a'"
      ]
     },
     "execution_count": 33,
     "metadata": {},
     "output_type": "execute_result"
    }
   ],
   "source": [
    "def email_func(mail):\n",
    "    position=mail.find('@')\n",
    "    first=0\n",
    "    second=0\n",
    "    if position==-1:\n",
    "        return False\n",
    "    else:\n",
    "        first=second=position\n",
    "        while first>=0 and mail[first]!= ' ':\n",
    "            first-=1\n",
    "        while second<len(mail) and mail[second]!=' ':\n",
    "            second+=1\n",
    "        mail=mail[first+1:second]\n",
    "    return mail\n",
    "email_func(\"a @a\")\n",
    "    "
   ]
  },
  {
   "cell_type": "code",
   "execution_count": 7,
   "metadata": {},
   "outputs": [
    {
     "name": "stdout",
     "output_type": "stream",
     "text": [
      " abhinav@cloudxlab.com\n"
     ]
    }
   ],
   "source": [
    "x='this is first abhinav@cloudxlab.com and'\n",
    "position=x.find('@')\n",
    "first=second=position\n",
    "while first>=0 and x[first]!=' ':\n",
    "    first-=1\n",
    "while second>=0 and x[second]!=' ':\n",
    "    second+=1\n",
    "print(x[first:second])"
   ]
  },
  {
   "cell_type": "code",
   "execution_count": 1,
   "metadata": {},
   "outputs": [
    {
     "name": "stdout",
     "output_type": "stream",
     "text": [
      "['contact@tutorialspoint.com', 'feedback@tp.com']\n"
     ]
    }
   ],
   "source": [
    "import re\n",
    "text = \"Please contact us at contact@tutorialspoint.com for further information.\"+\\\n",
    "        \" You can also give feedbacl at feedback@tp.com\"\n",
    "\n",
    "\n",
    "emails = re.findall(r\"[a-z0-9\\.\\-+_]+@[a-z0-9\\.\\-+_]+\\.[a-z]+\", text)\n",
    "print (emails)"
   ]
  },
  {
   "cell_type": "code",
   "execution_count": 21,
   "metadata": {},
   "outputs": [
    {
     "name": "stdout",
     "output_type": "stream",
     "text": [
      "Invalid\n"
     ]
    }
   ],
   "source": [
    "x='imphal'\n",
    "try:\n",
    "    if x[6] is True:\n",
    "        print(x[6])\n",
    "except:\n",
    "    print('Invalid')"
   ]
  },
  {
   "cell_type": "code",
   "execution_count": 7,
   "metadata": {},
   "outputs": [
    {
     "name": "stdout",
     "output_type": "stream",
     "text": [
      "146\n"
     ]
    },
    {
     "data": {
      "text/plain": [
       "str"
      ]
     },
     "execution_count": 7,
     "metadata": {},
     "output_type": "execute_result"
    }
   ],
   "source": [
    "a=73\n",
    "b=\"%d\"%(a+a)\n",
    "print(b)\n",
    "type(b)"
   ]
  },
  {
   "cell_type": "code",
   "execution_count": 8,
   "metadata": {},
   "outputs": [
    {
     "name": "stdout",
     "output_type": "stream",
     "text": [
      "23 is an integer, 23.34 is floating-point and Twenty-Three is string\n"
     ]
    }
   ],
   "source": [
    "b =  \"%d is an integer, %g is floating-point and %s is string\" % (23, 23.34, \"Twenty-Three\")\n",
    "print(b)"
   ]
  },
  {
   "cell_type": "code",
   "execution_count": 9,
   "metadata": {},
   "outputs": [
    {
     "name": "stdout",
     "output_type": "stream",
     "text": [
      "3+3\n"
     ]
    }
   ],
   "source": [
    "print('%d+3' % 3)"
   ]
  },
  {
   "cell_type": "code",
   "execution_count": 10,
   "metadata": {},
   "outputs": [
    {
     "name": "stdout",
     "output_type": "stream",
     "text": [
      "%f %f %s\n"
     ]
    }
   ],
   "source": [
    "print(\"%f %f %s\")"
   ]
  },
  {
   "cell_type": "code",
   "execution_count": 15,
   "metadata": {},
   "outputs": [
    {
     "name": "stdout",
     "output_type": "stream",
     "text": [
      "[12, 3.4, 34, 'cloudxlab', [2.3, 1.4]]\n",
      "[12, 4, 34, 'cloudxlab', [2.3, 1.4]]\n",
      "False\n"
     ]
    }
   ],
   "source": [
    "a = [12, 3.4, 34, 'cloudxlab', [2.3, 1.4]]\n",
    "print(a)\n",
    "a[1] = 4\n",
    "print(a)\n",
    "print(3 in a)"
   ]
  },
  {
   "cell_type": "code",
   "execution_count": 25,
   "metadata": {},
   "outputs": [
    {
     "name": "stdout",
     "output_type": "stream",
     "text": [
      "1\n",
      "2\n",
      "3\n",
      "4\n",
      "5\n",
      "[2, 3, 4, 5, 6]\n"
     ]
    }
   ],
   "source": [
    "a = [1,2,3,4,5]\n",
    "for number in a:\n",
    "   print(number)\n",
    "for number in range(len(a)):\n",
    "    a[number] = a[number] + 1\n",
    "print(a)"
   ]
  },
  {
   "cell_type": "code",
   "execution_count": 22,
   "metadata": {},
   "outputs": [],
   "source": [
    "for number in range(len(a)):\n",
    "    a[number] = a[number] + 1"
   ]
  },
  {
   "cell_type": "code",
   "execution_count": 36,
   "metadata": {},
   "outputs": [
    {
     "name": "stdout",
     "output_type": "stream",
     "text": [
      "[1, 2, 3, 1, 2, 3, 1, 2, 3]\n",
      "18\n"
     ]
    }
   ],
   "source": [
    "a = [1,2,3]    \n",
    "c = a * 3\n",
    "print(c)\n",
    "add=0\n",
    "for i in range (len(c)):\n",
    "    add+=c[i]\n",
    "print(add)"
   ]
  },
  {
   "cell_type": "code",
   "execution_count": 40,
   "metadata": {},
   "outputs": [
    {
     "name": "stdout",
     "output_type": "stream",
     "text": [
      "12\n"
     ]
    }
   ],
   "source": [
    "a = [1,2,3,4,5,6,7,8,9]\n",
    "s=a[2:5]\n",
    "add=0\n",
    "for i in range (len(s)):\n",
    "      add+=s[i]\n",
    "print(add)"
   ]
  },
  {
   "cell_type": "code",
   "execution_count": 33,
   "metadata": {},
   "outputs": [
    {
     "name": "stdout",
     "output_type": "stream",
     "text": [
      "[1, 2, 7, 4, 9, 6, 7, 8, 9]\n",
      "53\n"
     ]
    }
   ],
   "source": [
    "a = [1,2,3,4,5,6,7,8,9]\n",
    "a[2:5] = [7,4,9]\n",
    "print(a)\n",
    "add=0\n",
    "#length=len(a)\n",
    "for i in range(len(a)):\n",
    "    add=add + a[i]\n",
    "print(add)\n",
    "    "
   ]
  },
  {
   "cell_type": "code",
   "execution_count": 46,
   "metadata": {},
   "outputs": [
    {
     "name": "stdout",
     "output_type": "stream",
     "text": [
      "[23, 12, 32, 1, 2, 34, 56, 12]\n",
      "56\n",
      "344\n"
     ]
    }
   ],
   "source": [
    "a = [23,12,32,1,2,34,56]\n",
    "a.append(12)\n",
    "print(a)\n",
    "print(a[len(a)-2])\n",
    "a.extend(a)\n",
    "add=0\n",
    "for i in range (len(a)):\n",
    "    add+=a[i]\n",
    "print(add)"
   ]
  },
  {
   "cell_type": "code",
   "execution_count": 48,
   "metadata": {},
   "outputs": [
    {
     "name": "stdout",
     "output_type": "stream",
     "text": [
      "[1, 1, 2, 2, 12, 12, 12, 12, 23, 23, 32, 32, 34, 34, 56, 56]\n",
      "14\n"
     ]
    }
   ],
   "source": [
    "a.sort()\n",
    "print(a)\n",
    "print(a[2] + a[7])"
   ]
  },
  {
   "cell_type": "code",
   "execution_count": 62,
   "metadata": {},
   "outputs": [
    {
     "name": "stdout",
     "output_type": "stream",
     "text": [
      "[12, 23, 43, 2, 4, 5]\n",
      "6\n",
      "12 12\n",
      "35 23\n",
      "78 43\n",
      "80 2\n",
      "84 4\n",
      "89 5\n",
      "89\n"
     ]
    }
   ],
   "source": [
    "list1 = [12,23,43,[2,4,5], 2, 4,5]\n",
    "list1.pop(3)\n",
    "print(list1)\n",
    "add=0\n",
    "print(len(list1))\n",
    "for i in range (len(list1)):\n",
    "    add=add+list1[i]\n",
    "    print(add,list1[i])\n",
    "print(add)"
   ]
  },
  {
   "cell_type": "code",
   "execution_count": 52,
   "metadata": {},
   "outputs": [
    {
     "name": "stdout",
     "output_type": "stream",
     "text": [
      "['cloudx', 'provides', 'cloud', 'lab']\n"
     ]
    }
   ],
   "source": [
    "list2 = ['cloudx', 'lab', 'provides', 'cloud', 'lab']\n",
    "del list2[1]\n",
    "print(list2)\n",
    "list2.remove('lab')"
   ]
  },
  {
   "cell_type": "code",
   "execution_count": 54,
   "metadata": {},
   "outputs": [
    {
     "data": {
      "text/plain": [
       "0"
      ]
     },
     "execution_count": 54,
     "metadata": {},
     "output_type": "execute_result"
    }
   ],
   "source": [
    "list2 = ['cloudx', 'lab', 'provides', 'cloud', 'lab']\n",
    "del list2[:]\n",
    "len(list2)"
   ]
  },
  {
   "cell_type": "code",
   "execution_count": 12,
   "metadata": {},
   "outputs": [
    {
     "name": "stdout",
     "output_type": "stream",
     "text": [
      "['This', 'is', 'a', 'sample', 'file', 'for', 'testing', 'for', 'Python', 'course', 'for', 'learners', 'in', 'CloudxLab.']\n",
      "65\n"
     ]
    },
    {
     "data": {
      "text/plain": [
       "int"
      ]
     },
     "execution_count": 12,
     "metadata": {},
     "output_type": "execute_result"
    }
   ],
   "source": [
    "s='This is a sample file for testing for Python course for learners in CloudxLab.'\n",
    "l=s.split(' ')\n",
    "print(l)\n",
    "length=len(''.join(l))\n",
    "print(length)\n",
    "type(length)\n",
    "#print(l)\n",
    "#print(len(l))"
   ]
  },
  {
   "cell_type": "code",
   "execution_count": 79,
   "metadata": {},
   "outputs": [
    {
     "data": {
      "text/plain": [
       "'I ma gearninl nythoP ta bloudxLaC'"
      ]
     },
     "execution_count": 79,
     "metadata": {},
     "output_type": "execute_result"
    }
   ],
   "source": [
    "def exchange(m):\n",
    "    count=len(m)\n",
    "    list1=list(m)\n",
    "    temp=list1[0]\n",
    "    list1[0]=list1[count-1]\n",
    "    list1[count-1]=temp\n",
    "    ex_str=''.join(list1)\n",
    "    return ex_str\n",
    "    \n",
    "def str_list_func(arg):\n",
    "    sep=arg.split()\n",
    "    length=len(sep)\n",
    "    list2=sep\n",
    "    for i in range(length):\n",
    "        list2[i]=exchange(sep[i])\n",
    "    final_str=' '.join(list2)\n",
    "    return final_str\n",
    "    \n",
    "str_list_func('I am learning Python at CloudxLab')\n",
    "    "
   ]
  },
  {
   "cell_type": "code",
   "execution_count": 55,
   "metadata": {},
   "outputs": [
    {
     "name": "stdout",
     "output_type": "stream",
     "text": [
      "cloud x lab\n"
     ]
    }
   ],
   "source": [
    "a=['cloud','x','lab']\n",
    "b=' '.join(a)\n",
    "print(b)"
   ]
  },
  {
   "cell_type": "code",
   "execution_count": 69,
   "metadata": {},
   "outputs": [
    {
     "data": {
      "text/plain": [
       "'lmphai'"
      ]
     },
     "execution_count": 69,
     "metadata": {},
     "output_type": "execute_result"
    }
   ],
   "source": [
    "def exchange(m):\n",
    "    count=len(m)\n",
    "    list1=list(m)\n",
    "    temp=list1[0]\n",
    "    list1[0]=list1[count-1]\n",
    "    list1[count-1]=temp\n",
    "    ex_str=''.join(list1)\n",
    "    return ex_str\n",
    "exchange('imphal')\n",
    "    "
   ]
  },
  {
   "cell_type": "code",
   "execution_count": null,
   "metadata": {},
   "outputs": [],
   "source": []
  },
  {
   "cell_type": "code",
   "execution_count": 12,
   "metadata": {},
   "outputs": [
    {
     "name": "stdout",
     "output_type": "stream",
     "text": [
      "['abcd']\n"
     ]
    }
   ],
   "source": [
    "liat1=[]\n",
    "liat1=['abcd']\n",
    "print(liat1)"
   ]
  },
  {
   "cell_type": "code",
   "execution_count": 19,
   "metadata": {},
   "outputs": [
    {
     "name": "stdout",
     "output_type": "stream",
     "text": [
      "['A', 'i', 'r', 'p', 'o', 't']\n",
      "['t', 'i', 'r', 'p', 'o', 'A']\n"
     ]
    }
   ],
   "source": [
    "a='Airpot'\n",
    "count=len(a)\n",
    "list1=list(a)\n",
    "print(list1)\n",
    "temp=list1[0]\n",
    "list1[0]=list1[count-1]\n",
    "list1[count-1]=temp\n",
    "print(list1)"
   ]
  },
  {
   "cell_type": "code",
   "execution_count": 6,
   "metadata": {
    "scrolled": true
   },
   "outputs": [
    {
     "name": "stdout",
     "output_type": "stream",
     "text": [
      "['c', 'l', 'o', 'u', 'd', 'x', 'l', 'a', 'b']\n",
      "c l o u d x l a b\n"
     ]
    }
   ],
   "source": [
    "a = \"cloudxlab\"\n",
    "list1=list(a)\n",
    "print(list1)\n",
    "list2=' '.join(list1)\n",
    "print(list2)"
   ]
  },
  {
   "cell_type": "code",
   "execution_count": 15,
   "metadata": {},
   "outputs": [
    {
     "name": "stdout",
     "output_type": "stream",
     "text": [
      "c l o u d x l a b\n"
     ]
    }
   ],
   "source": [
    "temp=['c', 'l', 'o', 'u', 'd', 'x', 'l', 'a', 'b']\n",
    "temp2=' '.join(temp)\n",
    "print(temp2)"
   ]
  },
  {
   "cell_type": "code",
   "execution_count": 28,
   "metadata": {},
   "outputs": [
    {
     "name": "stdout",
     "output_type": "stream",
     "text": [
      "[2, 4, 5, 23, 12, 32, 1, 2, 34, 56]\n"
     ]
    }
   ],
   "source": [
    "a = [23,12,32,1,2,34,56]\n",
    "b=[2,4,5]\n",
    "b.extend(a)\n",
    "print(b)"
   ]
  },
  {
   "cell_type": "code",
   "execution_count": 17,
   "metadata": {},
   "outputs": [
    {
     "data": {
      "text/plain": [
       "-1"
      ]
     },
     "execution_count": 17,
     "metadata": {},
     "output_type": "execute_result"
    }
   ],
   "source": [
    "def file_read_func(path):\n",
    "    try:\n",
    "        f=open('path')\n",
    "        f1=f.split('')\n",
    "        length=''.join(f1)\n",
    "        return length\n",
    "    except:\n",
    "        return -1\n",
    "file_read_func('/cxldata/python_sample_file')\n",
    "        \n",
    "        \n",
    "            \n",
    "        "
   ]
  },
  {
   "cell_type": "code",
   "execution_count": 3,
   "metadata": {},
   "outputs": [
    {
     "name": "stdout",
     "output_type": "stream",
     "text": [
      "This is a sample file for testing\n",
      "for Python course for\n",
      "learners in CloudxLab.\n",
      "\n"
     ]
    },
    {
     "data": {
      "text/plain": [
       "65"
      ]
     },
     "execution_count": 3,
     "metadata": {},
     "output_type": "execute_result"
    }
   ],
   "source": [
    "def count_words(file):\n",
    "    l=file.split(' ')\n",
    "    rem=[]\n",
    "    for x in l:\n",
    "        rem.append(x.replace('\\n',''))\n",
    "    length=len(''.join(rem))\n",
    "    #print(rem)\n",
    "    return length\n",
    "def file_read_func(path):\n",
    "    try:\n",
    "        with open(path) as f:\n",
    "            f1=\"\"\n",
    "            count=0\n",
    "            for line in f:\n",
    "                f1=f1+line\n",
    "            print(f1)\n",
    "            count=count_words(f1)\n",
    "            return count\n",
    "    except:\n",
    "        return -1\n",
    "file_read_func('/cxldata/python_sample_file')\n",
    "        "
   ]
  },
  {
   "cell_type": "code",
   "execution_count": null,
   "metadata": {},
   "outputs": [],
   "source": []
  },
  {
   "cell_type": "code",
   "execution_count": null,
   "metadata": {},
   "outputs": [],
   "source": [
    "list1 = [\"Starbucks\\n\", \"has the \\nbest\", \"coffee\\n\\n \"]\n",
    "rez = []\n",
    "\n",
    "for x in list1:\n",
    "    rez.append(x.replace(\"\\n\", \"\"))\n",
    "\n",
    "print(\"New list : \" + str(rez))"
   ]
  },
  {
   "cell_type": "code",
   "execution_count": 9,
   "metadata": {},
   "outputs": [
    {
     "name": "stdout",
     "output_type": "stream",
     "text": [
      "This is a sample file for testing\n",
      "\n",
      "for Python course for\n",
      "\n",
      "learners in CloudxLab.\n",
      "\n"
     ]
    }
   ],
   "source": [
    "with open(\"/cxldata/python_sample_file\") as f:\n",
    "    s = \"\"\n",
    "    for line in f:\n",
    "        print(line)\n",
    "        s = s+ line\n",
    "    print(s)"
   ]
  },
  {
   "cell_type": "code",
   "execution_count": 14,
   "metadata": {},
   "outputs": [
    {
     "ename": "SyntaxError",
     "evalue": "unexpected EOF while parsing (<ipython-input-14-ef53e7c92cc3>, line 2)",
     "output_type": "error",
     "traceback": [
      "\u001b[0;36m  File \u001b[0;32m\"<ipython-input-14-ef53e7c92cc3>\"\u001b[0;36m, line \u001b[0;32m2\u001b[0m\n\u001b[0;31m    \u001b[0m\n\u001b[0m    ^\u001b[0m\n\u001b[0;31mSyntaxError\u001b[0m\u001b[0;31m:\u001b[0m unexpected EOF while parsing\n"
     ]
    }
   ],
   "source": [
    "with open('This is a sample file for testing for Python course for learners in CloudxLab.') as f:\n",
    "    "
   ]
  },
  {
   "cell_type": "code",
   "execution_count": null,
   "metadata": {},
   "outputs": [],
   "source": [
    "def file_read_func(path):\n",
    "    try:\n",
    "        with open(path) as f:\n",
    "            s=0\n",
    "            for line in f:\n",
    "                for word in line.split():\n",
    "                    s=s+len(word)\n",
    "                return s    \n",
    "    except:\n",
    "        return -1\n"
   ]
  },
  {
   "cell_type": "code",
   "execution_count": 2,
   "metadata": {},
   "outputs": [
    {
     "data": {
      "text/plain": [
       "7"
      ]
     },
     "execution_count": 2,
     "metadata": {},
     "output_type": "execute_result"
    }
   ],
   "source": [
    "def file_read_func(string):\n",
    "\n",
    "\n",
    "    try:\n",
    "        x=open(string)\n",
    "\n",
    "        sum=0\n",
    "\n",
    "        for line in x:\n",
    "            u=line.split()\n",
    "            for words in u:\n",
    "                a=len(words)\n",
    "                #a+=0\n",
    "\n",
    "            sum+=a\n",
    "            return sum\n",
    "\n",
    "\n",
    "\n",
    "\n",
    "\n",
    "    except:\n",
    "\n",
    "        return -1\n",
    "file_read_func('/cxldata/python_sample_file')"
   ]
  },
  {
   "cell_type": "code",
   "execution_count": 4,
   "metadata": {},
   "outputs": [
    {
     "name": "stdout",
     "output_type": "stream",
     "text": [
      "0\n",
      "0\n",
      "0\n"
     ]
    }
   ],
   "source": [
    "check = 0\n",
    "with open(\"/cxldata/python_sample_file\") as f:\n",
    "    for line in f:\n",
    "        if(line.startswith('w')):\n",
    "            check = check + 1\n",
    "        print(check)"
   ]
  },
  {
   "cell_type": "code",
   "execution_count": 6,
   "metadata": {},
   "outputs": [
    {
     "name": "stdout",
     "output_type": "stream",
     "text": [
      "This is a sample file for testing\n",
      "for Python course for\n",
      "learners in CloudxLab.\n",
      "\n"
     ]
    }
   ],
   "source": [
    "with open(\"/cxldata/python_sample_file\", 'r') as f:\n",
    "    print(f.read())"
   ]
  },
  {
   "cell_type": "code",
   "execution_count": 10,
   "metadata": {},
   "outputs": [
    {
     "ename": "FileNotFoundError",
     "evalue": "[Errno 2] No such file or directory: '/home/*your_username*/cloudxlab_jupyter_notebooks'",
     "output_type": "error",
     "traceback": [
      "\u001b[0;31m---------------------------------------------------------------------------\u001b[0m",
      "\u001b[0;31mFileNotFoundError\u001b[0m                         Traceback (most recent call last)",
      "\u001b[0;32m<ipython-input-10-9dc9d4192e3a>\u001b[0m in \u001b[0;36m<module>\u001b[0;34m\u001b[0m\n\u001b[1;32m      1\u001b[0m \u001b[0;32mwith\u001b[0m \u001b[0mopen\u001b[0m \u001b[0;34m(\u001b[0m\u001b[0;34m'python_file_writing.txt'\u001b[0m\u001b[0;34m,\u001b[0m\u001b[0;34m'w'\u001b[0m\u001b[0;34m)\u001b[0m \u001b[0;32mas\u001b[0m \u001b[0mf\u001b[0m\u001b[0;34m:\u001b[0m\u001b[0;34m\u001b[0m\u001b[0;34m\u001b[0m\u001b[0m\n\u001b[1;32m      2\u001b[0m     \u001b[0mf\u001b[0m\u001b[0;34m.\u001b[0m\u001b[0mwrite\u001b[0m\u001b[0;34m(\u001b[0m\u001b[0;34m'I am learning pyhton in CloudxLab'\u001b[0m\u001b[0;34m)\u001b[0m\u001b[0;34m\u001b[0m\u001b[0;34m\u001b[0m\u001b[0m\n\u001b[0;32m----> 3\u001b[0;31m \u001b[0;32mwith\u001b[0m \u001b[0mopen\u001b[0m \u001b[0;34m(\u001b[0m\u001b[0;34m'/home/*your_username*/cloudxlab_jupyter_notebooks'\u001b[0m\u001b[0;34m)\u001b[0m \u001b[0;32mas\u001b[0m \u001b[0mf\u001b[0m\u001b[0;34m:\u001b[0m\u001b[0;34m\u001b[0m\u001b[0;34m\u001b[0m\u001b[0m\n\u001b[0m\u001b[1;32m      4\u001b[0m     \u001b[0mprint\u001b[0m\u001b[0;34m(\u001b[0m\u001b[0mf\u001b[0m\u001b[0;34m.\u001b[0m\u001b[0mread\u001b[0m\u001b[0;34m(\u001b[0m\u001b[0;34m)\u001b[0m\u001b[0;34m)\u001b[0m\u001b[0;34m\u001b[0m\u001b[0;34m\u001b[0m\u001b[0m\n",
      "\u001b[0;31mFileNotFoundError\u001b[0m: [Errno 2] No such file or directory: '/home/*your_username*/cloudxlab_jupyter_notebooks'"
     ]
    }
   ],
   "source": [
    "with open ('python_file_writing.txt','w') as f:\n",
    "    f.write('I am learning pyhton in CloudxLab')\n",
    "with open ('/home/*your_username*/cloudxlab_jupyter_notebooks') as f:\n",
    "    print(f.read())"
   ]
  },
  {
   "cell_type": "code",
   "execution_count": 3,
   "metadata": {},
   "outputs": [
    {
     "name": "stdout",
     "output_type": "stream",
     "text": [
      "Enter a line of text:Imphal is the capital of Manipur\n",
      "Words: ['Imphal', 'is', 'the', 'capital', 'of', 'Manipur']\n",
      "Counting...\n",
      "Counts {'Imphal': 1, 'is': 1, 'the': 1, 'capital': 1, 'of': 1, 'Manipur': 1}\n"
     ]
    }
   ],
   "source": [
    "counts=dict()\n",
    "line= input('Enter a line of text:')\n",
    "words=line.split()\n",
    "print('Words:', words)\n",
    "print('Counting...')\n",
    "for word in words:\n",
    "    counts[word]= counts.get(word,0)+1\n",
    "print(\"Counts\", counts)"
   ]
  },
  {
   "cell_type": "code",
   "execution_count": 4,
   "metadata": {},
   "outputs": [
    {
     "name": "stdout",
     "output_type": "stream",
     "text": [
      "15000\n"
     ]
    }
   ],
   "source": [
    "car = {\n",
    "  \"brand\": \"Ford\",\n",
    "  \"model\": \"Mustang\",\n",
    "  \"year\": 1964\n",
    "}\n",
    "\n",
    "x = car.get(\"price\", 15000)\n",
    "\n",
    "print(x)"
   ]
  },
  {
   "cell_type": "code",
   "execution_count": 1,
   "metadata": {},
   "outputs": [
    {
     "ename": "SyntaxError",
     "evalue": "can't assign to function call (<ipython-input-1-c312a128d475>, line 7)",
     "output_type": "error",
     "traceback": [
      "\u001b[0;36m  File \u001b[0;32m\"<ipython-input-1-c312a128d475>\"\u001b[0;36m, line \u001b[0;32m7\u001b[0m\n\u001b[0;31m    counts(word)=counts.get(word,0)+1\u001b[0m\n\u001b[0m    ^\u001b[0m\n\u001b[0;31mSyntaxError\u001b[0m\u001b[0;31m:\u001b[0m can't assign to function call\n"
     ]
    }
   ],
   "source": [
    "fhand=open('mbox.txt')\n",
    "counts=dict()\n",
    "for line in fhand:\n",
    "    words=line.split()\n",
    "    print(words)\n",
    "    for word in words:\n",
    "        counts(word)=counts.get(word,0)+1\n",
    "        print(counts)\n",
    "    "
   ]
  },
  {
   "cell_type": "code",
   "execution_count": 1,
   "metadata": {},
   "outputs": [
    {
     "name": "stdout",
     "output_type": "stream",
     "text": [
      "One\n"
     ]
    }
   ],
   "source": [
    "numbers = {\"1\" : \"One\", \"2\" : \"Two\"}\n",
    "print(numbers[\"1\"])"
   ]
  },
  {
   "cell_type": "code",
   "execution_count": 2,
   "metadata": {},
   "outputs": [
    {
     "data": {
      "text/plain": [
       "True"
      ]
     },
     "execution_count": 2,
     "metadata": {},
     "output_type": "execute_result"
    }
   ],
   "source": [
    "(0, 1, 2000000) < (0, 3, 4)"
   ]
  },
  {
   "cell_type": "code",
   "execution_count": 3,
   "metadata": {},
   "outputs": [
    {
     "name": "stdout",
     "output_type": "stream",
     "text": [
      "{}\n",
      "{'1 rupee coins': 10, '2 rupees coins': 5, '5 rupees coins': 6, '10 rupees coins': 12}\n",
      "18\n"
     ]
    }
   ],
   "source": [
    "d = dict()\n",
    "print(d)\n",
    "d['1 rupee coins'] = 10\n",
    "d['2 rupees coins'] = 5\n",
    "d['5 rupees coins'] = 6\n",
    "d['10 rupees coins'] = 12\n",
    "print(d)\n",
    "print(d['5 rupees coins']+d['10 rupees coins'])"
   ]
  },
  {
   "cell_type": "code",
   "execution_count": 7,
   "metadata": {},
   "outputs": [
    {
     "name": "stdout",
     "output_type": "stream",
     "text": [
      "4\n",
      "True\n",
      "False\n",
      "False\n"
     ]
    }
   ],
   "source": [
    "d = { 'one' : 1 , 'two' : 2, 'three' : 3, 'four': 4 }\n",
    "print(len(d))\n",
    "print('three' in d)\n",
    "print(4 in d)\n",
    "print(5 in d and 2 in d)\n"
   ]
  },
  {
   "cell_type": "code",
   "execution_count": 13,
   "metadata": {},
   "outputs": [
    {
     "name": "stdout",
     "output_type": "stream",
     "text": [
      "0\n",
      "apples \t 2\n",
      "bananas \t 3\n",
      "carrots \t 12\n"
     ]
    }
   ],
   "source": [
    "d = {\"apples\" : 2, \"bananas\" : 3, \"carrots\" : 12}\n",
    "print(d.get(\"oranges\",0))\n",
    "for fruit in d:\n",
    "    print(fruit,'\\t',d.get(fruit))\n"
   ]
  },
  {
   "cell_type": "code",
   "execution_count": 7,
   "metadata": {},
   "outputs": [
    {
     "data": {
      "text/plain": [
       "{'the': 2,\n",
       " 'quick': 1,\n",
       " 'brown': 1,\n",
       " 'fox': 1,\n",
       " 'jumps': 1,\n",
       " 'over': 1,\n",
       " 'lazy': 1,\n",
       " 'dog': 1}"
      ]
     },
     "execution_count": 7,
     "metadata": {},
     "output_type": "execute_result"
    }
   ],
   "source": [
    "def dict_func(arg):\n",
    "    counts={}\n",
    "    lst=arg.split()\n",
    "    for word in lst:\n",
    "        counts[word]=counts.get(word,0)+1\n",
    "    return counts\n",
    "dict_func('the quick brown fox jumps over the lazy dog')\n",
    "    "
   ]
  },
  {
   "cell_type": "code",
   "execution_count": 1,
   "metadata": {},
   "outputs": [
    {
     "name": "stdout",
     "output_type": "stream",
     "text": [
      "Enter a line:the quick brown fox jumps over the lazy dog\n",
      "Words: ['the', 'quick', 'brown', 'fox', 'jumps', 'over', 'the', 'lazy', 'dog']\n",
      "Counting...\n",
      "Counts {'the': 2, 'quick': 1, 'brown': 1, 'fox': 1, 'jumps': 1, 'over': 1, 'lazy': 1, 'dog': 1}\n"
     ]
    }
   ],
   "source": [
    "counts = dict()\n",
    "line = input('Enter a line:')\n",
    "words = line.split()\n",
    "print('Words:', words)\n",
    "print('Counting...')\n",
    "for word in words:\n",
    "    counts[word] = counts.get(word,0) + 1\n",
    "print('Counts', counts)"
   ]
  },
  {
   "cell_type": "code",
   "execution_count": 11,
   "metadata": {},
   "outputs": [
    {
     "data": {
      "text/plain": [
       "int"
      ]
     },
     "execution_count": 11,
     "metadata": {},
     "output_type": "execute_result"
    }
   ],
   "source": [
    "t = (1)\n",
    "type(t)"
   ]
  },
  {
   "cell_type": "code",
   "execution_count": 15,
   "metadata": {},
   "outputs": [
    {
     "name": "stdout",
     "output_type": "stream",
     "text": [
      "('1', ',', '2', ',', '3', ',', '4', ',', '5')\n",
      "(1, 2, 3, 4, 5)\n",
      "(1, 2, 3, 4, 5)\n"
     ]
    }
   ],
   "source": [
    "t = tuple()\n",
    "t1 = tuple(\"1,2,3,4,5\")\n",
    "t2 = tuple([1,2,3,4,5])\n",
    "t3 = tuple((1,2,3,4,5))\n",
    "print(t1)\n",
    "print(t2)\n",
    "print(t3)"
   ]
  },
  {
   "cell_type": "code",
   "execution_count": 10,
   "metadata": {},
   "outputs": [
    {
     "name": "stdout",
     "output_type": "stream",
     "text": [
      "34\n",
      "t2: (5, 2, 54)\n",
      "t3: (3, 5, 5, 2, 54)\n",
      "61\n",
      "69\n"
     ]
    }
   ],
   "source": [
    "t = (1,3,5,2,54,34,2,34,5)\n",
    "l = len(t)\n",
    "print(t[l-2])\n",
    "t2=t[2:5]\n",
    "\n",
    "def add(t):\n",
    "    sum=0\n",
    "    for i in t:\n",
    "        sum+=i\n",
    "    return sum\n",
    "t3=t[1:3]+t2[:]\n",
    "print('t2:',t2)\n",
    "print('t3:', t3)\n",
    "print(add(t2))\n",
    "print(add(t3))"
   ]
  },
  {
   "cell_type": "code",
   "execution_count": 13,
   "metadata": {},
   "outputs": [
    {
     "name": "stdout",
     "output_type": "stream",
     "text": [
      "None\n",
      "(2, 34, 23)\n",
      "59\n"
     ]
    }
   ],
   "source": [
    "l = [(0,23,34), (2,34,23), (1,34,23)]\n",
    "print(l.sort())\n",
    "print(l[2])\n",
    "def add(t):\n",
    "    sum=0\n",
    "    for i in t:\n",
    "        sum+=i\n",
    "    return sum\n",
    "print(add(l[2]))"
   ]
  },
  {
   "cell_type": "code",
   "execution_count": 31,
   "metadata": {},
   "outputs": [
    {
     "name": "stdout",
     "output_type": "stream",
     "text": [
      "{1: 2, 2: 2, 3: 2}\n",
      "dict_keys([1, 2, 3])\n"
     ]
    },
    {
     "data": {
      "text/plain": [
       "({1: 2, 2: 2, 3: 2}, 6)"
      ]
     },
     "execution_count": 31,
     "metadata": {},
     "output_type": "execute_result"
    }
   ],
   "source": [
    "def dict_tuple_func(arg):\n",
    "    emp={}\n",
    "    tup=()\n",
    "    for word in arg:\n",
    "        emp[word]=emp.get(word,0)+1\n",
    "    print(emp)\n",
    "    tup=(emp,sum(list(emp.keys())))\n",
    "    \n",
    "    print(emp.keys())\n",
    "    return tup\n",
    "\n",
    "dict_tuple_func([1, 2, 3, 1, 2, 3])"
   ]
  },
  {
   "cell_type": "code",
   "execution_count": 2,
   "metadata": {},
   "outputs": [
    {
     "name": "stdout",
     "output_type": "stream",
     "text": [
      "b'But soft what light through yonder window breaks'\n",
      "b'It is the east and Juliet is the sun'\n",
      "b'Arise fair sun and kill the envious moon'\n",
      "b'Who is already sick and pale with grief'\n"
     ]
    }
   ],
   "source": [
    "from urllib import*\n",
    "fhand=request.urlopen('http://www.py4inf.com/code/romeo.txt')\n",
    "for line in fhand:\n",
    "    print(line.strip())"
   ]
  },
  {
   "cell_type": "code",
   "execution_count": null,
   "metadata": {},
   "outputs": [],
   "source": [
    "res = sum(list(test_tup))"
   ]
  }
 ],
 "metadata": {
  "kernelspec": {
   "display_name": "Python 3",
   "language": "python",
   "name": "python3"
  },
  "language_info": {
   "codemirror_mode": {
    "name": "ipython",
    "version": 3
   },
   "file_extension": ".py",
   "mimetype": "text/x-python",
   "name": "python",
   "nbconvert_exporter": "python",
   "pygments_lexer": "ipython3",
   "version": "3.6.8"
  },
  "toc": {
   "base_numbering": 1,
   "nav_menu": {
    "height": "143px",
    "width": "210px"
   },
   "number_sections": true,
   "sideBar": true,
   "skip_h1_title": false,
   "title_cell": "Table of Contents",
   "title_sidebar": "Contents",
   "toc_cell": false,
   "toc_position": {},
   "toc_section_display": true,
   "toc_window_display": false
  }
 },
 "nbformat": 4,
 "nbformat_minor": 2
}
